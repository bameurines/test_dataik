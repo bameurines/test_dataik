{
  "metadata": {
    "kernelspec": {
      "name": "py-dku-venv-py36-developer-v9",
      "display_name": "Python (env py36-developer-v9)",
      "language": "python"
    },
    "analyzedDataset": "online_retail_dataset_filtered",
    "creator": "admin",
    "createdOn": 1685636560518,
    "tags": [],
    "customFields": {},
    "dkuGit": {
      "gitReference": {
        "remote": "git@github.com:bameurines/test_dataik.git",
        "checkout": "refs/heads/main",
        "remotePath": "admin\u0027s Python notebook on online_retail_dataset_filtered.ipynb",
        "isDirty": false
      },
      "lastInteraction": 1685636660382
    },
    "language_info": {
      "name": "python",
      "version": "3.6.8",
      "mimetype": "text/x-python",
      "codemirror_mode": {
        "name": "ipython",
        "version": 3
      },
      "pygments_lexer": "ipython3",
      "nbconvert_exporter": "python",
      "file_extension": ".py"
    },
    "modifiedBy": "admin"
  },
  "nbformat": 4,
  "nbformat_minor": 1,
  "cells": [
    {
      "execution_count": 0,
      "cell_type": "code",
      "metadata": {},
      "source": [
        "%pylab inline"
      ],
      "outputs": []
    },
    {
      "execution_count": 0,
      "cell_type": "code",
      "metadata": {},
      "source": [
        "import dataiku\nfrom dataiku import pandasutils as pdu\nimport pandas as pd"
      ],
      "outputs": []
    },
    {
      "execution_count": 0,
      "cell_type": "code",
      "metadata": {},
      "source": [
        "# Read the dataset as a Pandas dataframe in memory\n# Note: here, we only read the first 100K rows. Other sampling options are available\ndataset_online_retail_dataset_filtered \u003d dataiku.Dataset(\"online_retail_dataset_filtered\")\ndf \u003d dataset_online_retail_dataset_filtered.get_dataframe(limit\u003d100000)"
      ],
      "outputs": []
    },
    {
      "execution_count": 0,
      "cell_type": "code",
      "metadata": {},
      "source": [
        "# Get some simple descriptive statistics\npdu.audit(df)"
      ],
      "outputs": []
    },
    {
      "execution_count": 0,
      "cell_type": "code",
      "metadata": {},
      "source": [
        ""
      ],
      "outputs": []
    }
  ]
}